{
 "cells": [
  {
   "cell_type": "code",
   "execution_count": 88,
   "id": "6afa486f",
   "metadata": {},
   "outputs": [],
   "source": [
    "import numpy as np"
   ]
  },
  {
   "cell_type": "code",
   "execution_count": 89,
   "id": "15ac5b8a",
   "metadata": {},
   "outputs": [],
   "source": [
    "x=np.arange(10).reshape(5,2)\n",
    "y=range(5)"
   ]
  },
  {
   "cell_type": "code",
   "execution_count": 90,
   "id": "8b69b890",
   "metadata": {},
   "outputs": [
    {
     "data": {
      "text/plain": [
       "array([[0, 1],\n",
       "       [2, 3],\n",
       "       [4, 5],\n",
       "       [6, 7],\n",
       "       [8, 9]])"
      ]
     },
     "execution_count": 90,
     "metadata": {},
     "output_type": "execute_result"
    }
   ],
   "source": [
    "x"
   ]
  },
  {
   "cell_type": "code",
   "execution_count": 91,
   "id": "10967faf",
   "metadata": {},
   "outputs": [
    {
     "data": {
      "text/plain": [
       "[0, 1, 2, 3, 4]"
      ]
     },
     "execution_count": 91,
     "metadata": {},
     "output_type": "execute_result"
    }
   ],
   "source": [
    "list(y)"
   ]
  },
  {
   "cell_type": "code",
   "execution_count": 92,
   "id": "f4dfc6b6",
   "metadata": {},
   "outputs": [],
   "source": [
    "from sklearn.model_selection import train_test_split"
   ]
  },
  {
   "cell_type": "code",
   "execution_count": 93,
   "id": "18e51744",
   "metadata": {},
   "outputs": [],
   "source": [
    "x_train,x_test,y_train,y_test = train_test_split(x,y)"
   ]
  },
  {
   "cell_type": "code",
   "execution_count": 94,
   "id": "1f501a9d",
   "metadata": {},
   "outputs": [
    {
     "data": {
      "text/plain": [
       "array([[4, 5],\n",
       "       [8, 9],\n",
       "       [2, 3]])"
      ]
     },
     "execution_count": 94,
     "metadata": {},
     "output_type": "execute_result"
    }
   ],
   "source": [
    "x_train"
   ]
  },
  {
   "cell_type": "code",
   "execution_count": 95,
   "id": "826f4fd8",
   "metadata": {},
   "outputs": [
    {
     "data": {
      "text/plain": [
       "array([[0, 1],\n",
       "       [6, 7]])"
      ]
     },
     "execution_count": 95,
     "metadata": {},
     "output_type": "execute_result"
    }
   ],
   "source": [
    "x_test"
   ]
  },
  {
   "cell_type": "code",
   "execution_count": 96,
   "id": "8e4467d8",
   "metadata": {},
   "outputs": [
    {
     "data": {
      "text/plain": [
       "[2, 4, 1]"
      ]
     },
     "execution_count": 96,
     "metadata": {},
     "output_type": "execute_result"
    }
   ],
   "source": [
    "y_train"
   ]
  },
  {
   "cell_type": "code",
   "execution_count": 97,
   "id": "92e4864f",
   "metadata": {},
   "outputs": [
    {
     "data": {
      "text/plain": [
       "[0, 3]"
      ]
     },
     "execution_count": 97,
     "metadata": {},
     "output_type": "execute_result"
    }
   ],
   "source": [
    "y_test"
   ]
  },
  {
   "cell_type": "code",
   "execution_count": 98,
   "id": "523b0693",
   "metadata": {},
   "outputs": [
    {
     "data": {
      "text/plain": [
       "[array([[8, 9],\n",
       "        [0, 1],\n",
       "        [4, 5]]),\n",
       " array([[2, 3],\n",
       "        [6, 7]]),\n",
       " [4, 0, 2],\n",
       " [1, 3]]"
      ]
     },
     "execution_count": 98,
     "metadata": {},
     "output_type": "execute_result"
    }
   ],
   "source": [
    "train_test_split(x,y)"
   ]
  },
  {
   "cell_type": "code",
   "execution_count": 99,
   "id": "4eb36c32",
   "metadata": {},
   "outputs": [],
   "source": [
    "from sklearn.linear_model import LinearRegression"
   ]
  },
  {
   "cell_type": "code",
   "execution_count": 100,
   "id": "34abffd6",
   "metadata": {},
   "outputs": [],
   "source": [
    "model=LinearRegression()"
   ]
  },
  {
   "cell_type": "code",
   "execution_count": 101,
   "id": "c260f12a",
   "metadata": {},
   "outputs": [
    {
     "data": {
      "text/html": [
       "<style>#sk-container-id-6 {color: black;}#sk-container-id-6 pre{padding: 0;}#sk-container-id-6 div.sk-toggleable {background-color: white;}#sk-container-id-6 label.sk-toggleable__label {cursor: pointer;display: block;width: 100%;margin-bottom: 0;padding: 0.3em;box-sizing: border-box;text-align: center;}#sk-container-id-6 label.sk-toggleable__label-arrow:before {content: \"▸\";float: left;margin-right: 0.25em;color: #696969;}#sk-container-id-6 label.sk-toggleable__label-arrow:hover:before {color: black;}#sk-container-id-6 div.sk-estimator:hover label.sk-toggleable__label-arrow:before {color: black;}#sk-container-id-6 div.sk-toggleable__content {max-height: 0;max-width: 0;overflow: hidden;text-align: left;background-color: #f0f8ff;}#sk-container-id-6 div.sk-toggleable__content pre {margin: 0.2em;color: black;border-radius: 0.25em;background-color: #f0f8ff;}#sk-container-id-6 input.sk-toggleable__control:checked~div.sk-toggleable__content {max-height: 200px;max-width: 100%;overflow: auto;}#sk-container-id-6 input.sk-toggleable__control:checked~label.sk-toggleable__label-arrow:before {content: \"▾\";}#sk-container-id-6 div.sk-estimator input.sk-toggleable__control:checked~label.sk-toggleable__label {background-color: #d4ebff;}#sk-container-id-6 div.sk-label input.sk-toggleable__control:checked~label.sk-toggleable__label {background-color: #d4ebff;}#sk-container-id-6 input.sk-hidden--visually {border: 0;clip: rect(1px 1px 1px 1px);clip: rect(1px, 1px, 1px, 1px);height: 1px;margin: -1px;overflow: hidden;padding: 0;position: absolute;width: 1px;}#sk-container-id-6 div.sk-estimator {font-family: monospace;background-color: #f0f8ff;border: 1px dotted black;border-radius: 0.25em;box-sizing: border-box;margin-bottom: 0.5em;}#sk-container-id-6 div.sk-estimator:hover {background-color: #d4ebff;}#sk-container-id-6 div.sk-parallel-item::after {content: \"\";width: 100%;border-bottom: 1px solid gray;flex-grow: 1;}#sk-container-id-6 div.sk-label:hover label.sk-toggleable__label {background-color: #d4ebff;}#sk-container-id-6 div.sk-serial::before {content: \"\";position: absolute;border-left: 1px solid gray;box-sizing: border-box;top: 0;bottom: 0;left: 50%;z-index: 0;}#sk-container-id-6 div.sk-serial {display: flex;flex-direction: column;align-items: center;background-color: white;padding-right: 0.2em;padding-left: 0.2em;position: relative;}#sk-container-id-6 div.sk-item {position: relative;z-index: 1;}#sk-container-id-6 div.sk-parallel {display: flex;align-items: stretch;justify-content: center;background-color: white;position: relative;}#sk-container-id-6 div.sk-item::before, #sk-container-id-6 div.sk-parallel-item::before {content: \"\";position: absolute;border-left: 1px solid gray;box-sizing: border-box;top: 0;bottom: 0;left: 50%;z-index: -1;}#sk-container-id-6 div.sk-parallel-item {display: flex;flex-direction: column;z-index: 1;position: relative;background-color: white;}#sk-container-id-6 div.sk-parallel-item:first-child::after {align-self: flex-end;width: 50%;}#sk-container-id-6 div.sk-parallel-item:last-child::after {align-self: flex-start;width: 50%;}#sk-container-id-6 div.sk-parallel-item:only-child::after {width: 0;}#sk-container-id-6 div.sk-dashed-wrapped {border: 1px dashed gray;margin: 0 0.4em 0.5em 0.4em;box-sizing: border-box;padding-bottom: 0.4em;background-color: white;}#sk-container-id-6 div.sk-label label {font-family: monospace;font-weight: bold;display: inline-block;line-height: 1.2em;}#sk-container-id-6 div.sk-label-container {text-align: center;}#sk-container-id-6 div.sk-container {/* jupyter's `normalize.less` sets `[hidden] { display: none; }` but bootstrap.min.css set `[hidden] { display: none !important; }` so we also need the `!important` here to be able to override the default hidden behavior on the sphinx rendered scikit-learn.org. See: https://github.com/scikit-learn/scikit-learn/issues/21755 */display: inline-block !important;position: relative;}#sk-container-id-6 div.sk-text-repr-fallback {display: none;}</style><div id=\"sk-container-id-6\" class=\"sk-top-container\"><div class=\"sk-text-repr-fallback\"><pre>LinearRegression()</pre><b>In a Jupyter environment, please rerun this cell to show the HTML representation or trust the notebook. <br />On GitHub, the HTML representation is unable to render, please try loading this page with nbviewer.org.</b></div><div class=\"sk-container\" hidden><div class=\"sk-item\"><div class=\"sk-estimator sk-toggleable\"><input class=\"sk-toggleable__control sk-hidden--visually\" id=\"sk-estimator-id-6\" type=\"checkbox\" checked><label for=\"sk-estimator-id-6\" class=\"sk-toggleable__label sk-toggleable__label-arrow\">LinearRegression</label><div class=\"sk-toggleable__content\"><pre>LinearRegression()</pre></div></div></div></div></div>"
      ],
      "text/plain": [
       "LinearRegression()"
      ]
     },
     "execution_count": 101,
     "metadata": {},
     "output_type": "execute_result"
    }
   ],
   "source": [
    "\n",
    "model.fit(x_train,y_train)"
   ]
  },
  {
   "cell_type": "code",
   "execution_count": 102,
   "id": "164b356a",
   "metadata": {},
   "outputs": [
    {
     "data": {
      "text/plain": [
       "array([4.16333634e-16, 3.00000000e+00])"
      ]
     },
     "execution_count": 102,
     "metadata": {},
     "output_type": "execute_result"
    }
   ],
   "source": [
    "prediction=model.predict(x_test)\n",
    "prediction"
   ]
  },
  {
   "cell_type": "code",
   "execution_count": 103,
   "id": "c170f6e9",
   "metadata": {},
   "outputs": [],
   "source": [
    "#it is used to create continous results \n",
    "import pandas as pd"
   ]
  },
  {
   "cell_type": "code",
   "execution_count": 104,
   "id": "6e7a7bc3",
   "metadata": {},
   "outputs": [],
   "source": [
    "data1=pd.read_csv(\"C:/Users/Admin/Downloads/advertising.csv\")"
   ]
  },
  {
   "cell_type": "code",
   "execution_count": 48,
   "id": "c77d37fc",
   "metadata": {},
   "outputs": [
    {
     "data": {
      "text/html": [
       "<div>\n",
       "<style scoped>\n",
       "    .dataframe tbody tr th:only-of-type {\n",
       "        vertical-align: middle;\n",
       "    }\n",
       "\n",
       "    .dataframe tbody tr th {\n",
       "        vertical-align: top;\n",
       "    }\n",
       "\n",
       "    .dataframe thead th {\n",
       "        text-align: right;\n",
       "    }\n",
       "</style>\n",
       "<table border=\"1\" class=\"dataframe\">\n",
       "  <thead>\n",
       "    <tr style=\"text-align: right;\">\n",
       "      <th></th>\n",
       "      <th>Daily Time Spent on Site</th>\n",
       "      <th>Age</th>\n",
       "      <th>Area Income</th>\n",
       "      <th>Daily Internet Usage</th>\n",
       "      <th>Ad Topic Line</th>\n",
       "      <th>City</th>\n",
       "      <th>Male</th>\n",
       "      <th>Country</th>\n",
       "      <th>Timestamp</th>\n",
       "      <th>Clicked on Ad</th>\n",
       "    </tr>\n",
       "  </thead>\n",
       "  <tbody>\n",
       "    <tr>\n",
       "      <th>0</th>\n",
       "      <td>68.95</td>\n",
       "      <td>35</td>\n",
       "      <td>61833.90</td>\n",
       "      <td>256.09</td>\n",
       "      <td>Cloned 5thgeneration orchestration</td>\n",
       "      <td>Wrightburgh</td>\n",
       "      <td>0</td>\n",
       "      <td>Tunisia</td>\n",
       "      <td>2016-03-27 00:53:11</td>\n",
       "      <td>0</td>\n",
       "    </tr>\n",
       "    <tr>\n",
       "      <th>1</th>\n",
       "      <td>80.23</td>\n",
       "      <td>31</td>\n",
       "      <td>68441.85</td>\n",
       "      <td>193.77</td>\n",
       "      <td>Monitored national standardization</td>\n",
       "      <td>West Jodi</td>\n",
       "      <td>1</td>\n",
       "      <td>Nauru</td>\n",
       "      <td>2016-04-04 01:39:02</td>\n",
       "      <td>0</td>\n",
       "    </tr>\n",
       "    <tr>\n",
       "      <th>2</th>\n",
       "      <td>69.47</td>\n",
       "      <td>26</td>\n",
       "      <td>59785.94</td>\n",
       "      <td>236.50</td>\n",
       "      <td>Organic bottom-line service-desk</td>\n",
       "      <td>Davidton</td>\n",
       "      <td>0</td>\n",
       "      <td>San Marino</td>\n",
       "      <td>2016-03-13 20:35:42</td>\n",
       "      <td>0</td>\n",
       "    </tr>\n",
       "    <tr>\n",
       "      <th>3</th>\n",
       "      <td>74.15</td>\n",
       "      <td>29</td>\n",
       "      <td>54806.18</td>\n",
       "      <td>245.89</td>\n",
       "      <td>Triple-buffered reciprocal time-frame</td>\n",
       "      <td>West Terrifurt</td>\n",
       "      <td>1</td>\n",
       "      <td>Italy</td>\n",
       "      <td>2016-01-10 02:31:19</td>\n",
       "      <td>0</td>\n",
       "    </tr>\n",
       "    <tr>\n",
       "      <th>4</th>\n",
       "      <td>68.37</td>\n",
       "      <td>35</td>\n",
       "      <td>73889.99</td>\n",
       "      <td>225.58</td>\n",
       "      <td>Robust logistical utilization</td>\n",
       "      <td>South Manuel</td>\n",
       "      <td>0</td>\n",
       "      <td>Iceland</td>\n",
       "      <td>2016-06-03 03:36:18</td>\n",
       "      <td>0</td>\n",
       "    </tr>\n",
       "    <tr>\n",
       "      <th>...</th>\n",
       "      <td>...</td>\n",
       "      <td>...</td>\n",
       "      <td>...</td>\n",
       "      <td>...</td>\n",
       "      <td>...</td>\n",
       "      <td>...</td>\n",
       "      <td>...</td>\n",
       "      <td>...</td>\n",
       "      <td>...</td>\n",
       "      <td>...</td>\n",
       "    </tr>\n",
       "    <tr>\n",
       "      <th>995</th>\n",
       "      <td>72.97</td>\n",
       "      <td>30</td>\n",
       "      <td>71384.57</td>\n",
       "      <td>208.58</td>\n",
       "      <td>Fundamental modular algorithm</td>\n",
       "      <td>Duffystad</td>\n",
       "      <td>1</td>\n",
       "      <td>Lebanon</td>\n",
       "      <td>2016-02-11 21:49:00</td>\n",
       "      <td>1</td>\n",
       "    </tr>\n",
       "    <tr>\n",
       "      <th>996</th>\n",
       "      <td>51.30</td>\n",
       "      <td>45</td>\n",
       "      <td>67782.17</td>\n",
       "      <td>134.42</td>\n",
       "      <td>Grass-roots cohesive monitoring</td>\n",
       "      <td>New Darlene</td>\n",
       "      <td>1</td>\n",
       "      <td>Bosnia and Herzegovina</td>\n",
       "      <td>2016-04-22 02:07:01</td>\n",
       "      <td>1</td>\n",
       "    </tr>\n",
       "    <tr>\n",
       "      <th>997</th>\n",
       "      <td>51.63</td>\n",
       "      <td>51</td>\n",
       "      <td>42415.72</td>\n",
       "      <td>120.37</td>\n",
       "      <td>Expanded intangible solution</td>\n",
       "      <td>South Jessica</td>\n",
       "      <td>1</td>\n",
       "      <td>Mongolia</td>\n",
       "      <td>2016-02-01 17:24:57</td>\n",
       "      <td>1</td>\n",
       "    </tr>\n",
       "    <tr>\n",
       "      <th>998</th>\n",
       "      <td>55.55</td>\n",
       "      <td>19</td>\n",
       "      <td>41920.79</td>\n",
       "      <td>187.95</td>\n",
       "      <td>Proactive bandwidth-monitored policy</td>\n",
       "      <td>West Steven</td>\n",
       "      <td>0</td>\n",
       "      <td>Guatemala</td>\n",
       "      <td>2016-03-24 02:35:54</td>\n",
       "      <td>0</td>\n",
       "    </tr>\n",
       "    <tr>\n",
       "      <th>999</th>\n",
       "      <td>45.01</td>\n",
       "      <td>26</td>\n",
       "      <td>29875.80</td>\n",
       "      <td>178.35</td>\n",
       "      <td>Virtual 5thgeneration emulation</td>\n",
       "      <td>Ronniemouth</td>\n",
       "      <td>0</td>\n",
       "      <td>Brazil</td>\n",
       "      <td>2016-06-03 21:43:21</td>\n",
       "      <td>1</td>\n",
       "    </tr>\n",
       "  </tbody>\n",
       "</table>\n",
       "<p>1000 rows × 10 columns</p>\n",
       "</div>"
      ],
      "text/plain": [
       "     Daily Time Spent on Site  Age  Area Income  Daily Internet Usage  \\\n",
       "0                       68.95   35     61833.90                256.09   \n",
       "1                       80.23   31     68441.85                193.77   \n",
       "2                       69.47   26     59785.94                236.50   \n",
       "3                       74.15   29     54806.18                245.89   \n",
       "4                       68.37   35     73889.99                225.58   \n",
       "..                        ...  ...          ...                   ...   \n",
       "995                     72.97   30     71384.57                208.58   \n",
       "996                     51.30   45     67782.17                134.42   \n",
       "997                     51.63   51     42415.72                120.37   \n",
       "998                     55.55   19     41920.79                187.95   \n",
       "999                     45.01   26     29875.80                178.35   \n",
       "\n",
       "                             Ad Topic Line            City  Male  \\\n",
       "0       Cloned 5thgeneration orchestration     Wrightburgh     0   \n",
       "1       Monitored national standardization       West Jodi     1   \n",
       "2         Organic bottom-line service-desk        Davidton     0   \n",
       "3    Triple-buffered reciprocal time-frame  West Terrifurt     1   \n",
       "4            Robust logistical utilization    South Manuel     0   \n",
       "..                                     ...             ...   ...   \n",
       "995          Fundamental modular algorithm       Duffystad     1   \n",
       "996        Grass-roots cohesive monitoring     New Darlene     1   \n",
       "997           Expanded intangible solution   South Jessica     1   \n",
       "998   Proactive bandwidth-monitored policy     West Steven     0   \n",
       "999        Virtual 5thgeneration emulation     Ronniemouth     0   \n",
       "\n",
       "                    Country            Timestamp  Clicked on Ad  \n",
       "0                   Tunisia  2016-03-27 00:53:11              0  \n",
       "1                     Nauru  2016-04-04 01:39:02              0  \n",
       "2                San Marino  2016-03-13 20:35:42              0  \n",
       "3                     Italy  2016-01-10 02:31:19              0  \n",
       "4                   Iceland  2016-06-03 03:36:18              0  \n",
       "..                      ...                  ...            ...  \n",
       "995                 Lebanon  2016-02-11 21:49:00              1  \n",
       "996  Bosnia and Herzegovina  2016-04-22 02:07:01              1  \n",
       "997                Mongolia  2016-02-01 17:24:57              1  \n",
       "998               Guatemala  2016-03-24 02:35:54              0  \n",
       "999                  Brazil  2016-06-03 21:43:21              1  \n",
       "\n",
       "[1000 rows x 10 columns]"
      ]
     },
     "execution_count": 48,
     "metadata": {},
     "output_type": "execute_result"
    }
   ],
   "source": [
    "data1"
   ]
  },
  {
   "cell_type": "code",
   "execution_count": 49,
   "id": "6f760ced",
   "metadata": {},
   "outputs": [
    {
     "name": "stdout",
     "output_type": "stream",
     "text": [
      "<class 'pandas.core.frame.DataFrame'>\n",
      "RangeIndex: 1000 entries, 0 to 999\n",
      "Data columns (total 10 columns):\n",
      " #   Column                    Non-Null Count  Dtype  \n",
      "---  ------                    --------------  -----  \n",
      " 0   Daily Time Spent on Site  1000 non-null   float64\n",
      " 1   Age                       1000 non-null   int64  \n",
      " 2   Area Income               1000 non-null   float64\n",
      " 3   Daily Internet Usage      1000 non-null   float64\n",
      " 4   Ad Topic Line             1000 non-null   object \n",
      " 5   City                      1000 non-null   object \n",
      " 6   Male                      1000 non-null   int64  \n",
      " 7   Country                   1000 non-null   object \n",
      " 8   Timestamp                 1000 non-null   object \n",
      " 9   Clicked on Ad             1000 non-null   int64  \n",
      "dtypes: float64(3), int64(3), object(4)\n",
      "memory usage: 78.3+ KB\n"
     ]
    }
   ],
   "source": [
    "data1.info()"
   ]
  },
  {
   "cell_type": "code",
   "execution_count": 64,
   "id": "d1b37e7f",
   "metadata": {},
   "outputs": [],
   "source": [
    "housing=pd.read_csv(\"C:/Users/Admin/Downloads/USA_Housing.csv\")"
   ]
  },
  {
   "cell_type": "code",
   "execution_count": 65,
   "id": "f1484c85",
   "metadata": {},
   "outputs": [],
   "source": [
    "X = data1[['Age','Area Income','Daily Internet Usage','Male']]\n",
    "Y = data1['Clicked on Ad']"
   ]
  },
  {
   "cell_type": "code",
   "execution_count": 66,
   "id": "dc0d74ff",
   "metadata": {},
   "outputs": [
    {
     "data": {
      "text/html": [
       "<div>\n",
       "<style scoped>\n",
       "    .dataframe tbody tr th:only-of-type {\n",
       "        vertical-align: middle;\n",
       "    }\n",
       "\n",
       "    .dataframe tbody tr th {\n",
       "        vertical-align: top;\n",
       "    }\n",
       "\n",
       "    .dataframe thead th {\n",
       "        text-align: right;\n",
       "    }\n",
       "</style>\n",
       "<table border=\"1\" class=\"dataframe\">\n",
       "  <thead>\n",
       "    <tr style=\"text-align: right;\">\n",
       "      <th></th>\n",
       "      <th>Age</th>\n",
       "      <th>Area Income</th>\n",
       "      <th>Daily Internet Usage</th>\n",
       "      <th>Male</th>\n",
       "    </tr>\n",
       "  </thead>\n",
       "  <tbody>\n",
       "    <tr>\n",
       "      <th>0</th>\n",
       "      <td>35</td>\n",
       "      <td>61833.90</td>\n",
       "      <td>256.09</td>\n",
       "      <td>0</td>\n",
       "    </tr>\n",
       "    <tr>\n",
       "      <th>1</th>\n",
       "      <td>31</td>\n",
       "      <td>68441.85</td>\n",
       "      <td>193.77</td>\n",
       "      <td>1</td>\n",
       "    </tr>\n",
       "    <tr>\n",
       "      <th>2</th>\n",
       "      <td>26</td>\n",
       "      <td>59785.94</td>\n",
       "      <td>236.50</td>\n",
       "      <td>0</td>\n",
       "    </tr>\n",
       "    <tr>\n",
       "      <th>3</th>\n",
       "      <td>29</td>\n",
       "      <td>54806.18</td>\n",
       "      <td>245.89</td>\n",
       "      <td>1</td>\n",
       "    </tr>\n",
       "    <tr>\n",
       "      <th>4</th>\n",
       "      <td>35</td>\n",
       "      <td>73889.99</td>\n",
       "      <td>225.58</td>\n",
       "      <td>0</td>\n",
       "    </tr>\n",
       "    <tr>\n",
       "      <th>...</th>\n",
       "      <td>...</td>\n",
       "      <td>...</td>\n",
       "      <td>...</td>\n",
       "      <td>...</td>\n",
       "    </tr>\n",
       "    <tr>\n",
       "      <th>995</th>\n",
       "      <td>30</td>\n",
       "      <td>71384.57</td>\n",
       "      <td>208.58</td>\n",
       "      <td>1</td>\n",
       "    </tr>\n",
       "    <tr>\n",
       "      <th>996</th>\n",
       "      <td>45</td>\n",
       "      <td>67782.17</td>\n",
       "      <td>134.42</td>\n",
       "      <td>1</td>\n",
       "    </tr>\n",
       "    <tr>\n",
       "      <th>997</th>\n",
       "      <td>51</td>\n",
       "      <td>42415.72</td>\n",
       "      <td>120.37</td>\n",
       "      <td>1</td>\n",
       "    </tr>\n",
       "    <tr>\n",
       "      <th>998</th>\n",
       "      <td>19</td>\n",
       "      <td>41920.79</td>\n",
       "      <td>187.95</td>\n",
       "      <td>0</td>\n",
       "    </tr>\n",
       "    <tr>\n",
       "      <th>999</th>\n",
       "      <td>26</td>\n",
       "      <td>29875.80</td>\n",
       "      <td>178.35</td>\n",
       "      <td>0</td>\n",
       "    </tr>\n",
       "  </tbody>\n",
       "</table>\n",
       "<p>1000 rows × 4 columns</p>\n",
       "</div>"
      ],
      "text/plain": [
       "     Age  Area Income  Daily Internet Usage  Male\n",
       "0     35     61833.90                256.09     0\n",
       "1     31     68441.85                193.77     1\n",
       "2     26     59785.94                236.50     0\n",
       "3     29     54806.18                245.89     1\n",
       "4     35     73889.99                225.58     0\n",
       "..   ...          ...                   ...   ...\n",
       "995   30     71384.57                208.58     1\n",
       "996   45     67782.17                134.42     1\n",
       "997   51     42415.72                120.37     1\n",
       "998   19     41920.79                187.95     0\n",
       "999   26     29875.80                178.35     0\n",
       "\n",
       "[1000 rows x 4 columns]"
      ]
     },
     "execution_count": 66,
     "metadata": {},
     "output_type": "execute_result"
    }
   ],
   "source": [
    "X"
   ]
  },
  {
   "cell_type": "code",
   "execution_count": 67,
   "id": "08e5ddd1",
   "metadata": {},
   "outputs": [
    {
     "data": {
      "text/plain": [
       "0      0\n",
       "1      0\n",
       "2      0\n",
       "3      0\n",
       "4      0\n",
       "      ..\n",
       "995    1\n",
       "996    1\n",
       "997    1\n",
       "998    0\n",
       "999    1\n",
       "Name: Clicked on Ad, Length: 1000, dtype: int64"
      ]
     },
     "execution_count": 67,
     "metadata": {},
     "output_type": "execute_result"
    }
   ],
   "source": [
    "Y"
   ]
  },
  {
   "cell_type": "code",
   "execution_count": 68,
   "id": "b49a6dae",
   "metadata": {},
   "outputs": [],
   "source": [
    "from sklearn.model_selection import train_test_split"
   ]
  },
  {
   "cell_type": "code",
   "execution_count": 69,
   "id": "b5401caf",
   "metadata": {},
   "outputs": [],
   "source": [
    "\n",
    "X_train,X_test,Y_train,Y_test = train_test_split(X,Y,test_size=0.4,random_state=101)\n"
   ]
  },
  {
   "cell_type": "code",
   "execution_count": 70,
   "id": "2d45a045",
   "metadata": {},
   "outputs": [
    {
     "data": {
      "text/plain": [
       "[     Age  Area Income  Daily Internet Usage  Male\n",
       " 146   49     65120.86                128.95     1\n",
       " 15    23     52182.23                140.64     1\n",
       " 627   49     59448.44                150.83     1\n",
       " 799   24     47258.59                228.81     1\n",
       " 497   39     42898.21                126.95     0\n",
       " ..   ...          ...                   ...   ...\n",
       " 575   54     53188.69                134.46     0\n",
       " 838   40     33601.84                128.48     1\n",
       " 337   28     59998.50                233.60     1\n",
       " 523   43     68447.17                128.16     0\n",
       " 863   39     66217.31                241.50     1\n",
       " \n",
       " [600 rows x 4 columns],\n",
       "      Age  Area Income  Daily Internet Usage  Male\n",
       " 545   55     55121.65                168.29     0\n",
       " 298   31     66269.49                214.74     0\n",
       " 109   32     72272.90                210.54     0\n",
       " 837   49     55942.04                117.33     1\n",
       " 194   33     49325.48                254.05     1\n",
       " ..   ...          ...                   ...   ...\n",
       " 998   19     41920.79                187.95     0\n",
       " 130   50     21644.91                175.37     0\n",
       " 861   29     70324.80                220.08     0\n",
       " 48    37     52723.34                123.72     1\n",
       " 778   44     14775.50                191.26     0\n",
       " \n",
       " [400 rows x 4 columns],\n",
       " 146    1\n",
       " 15     1\n",
       " 627    1\n",
       " 799    0\n",
       " 497    1\n",
       "       ..\n",
       " 575    1\n",
       " 838    1\n",
       " 337    0\n",
       " 523    1\n",
       " 863    0\n",
       " Name: Clicked on Ad, Length: 600, dtype: int64,\n",
       " 545    1\n",
       " 298    0\n",
       " 109    0\n",
       " 837    1\n",
       " 194    0\n",
       "       ..\n",
       " 998    0\n",
       " 130    1\n",
       " 861    0\n",
       " 48     1\n",
       " 778    1\n",
       " Name: Clicked on Ad, Length: 400, dtype: int64]"
      ]
     },
     "execution_count": 70,
     "metadata": {},
     "output_type": "execute_result"
    }
   ],
   "source": [
    "train_test_split(X,Y,test_size=0.4,random_state=101)"
   ]
  },
  {
   "cell_type": "code",
   "execution_count": 71,
   "id": "6dd89b90",
   "metadata": {},
   "outputs": [],
   "source": [
    "from sklearn.linear_model import LinearRegression\n",
    "model1=LinearRegression()"
   ]
  },
  {
   "cell_type": "code",
   "execution_count": 72,
   "id": "e7d59cf1",
   "metadata": {},
   "outputs": [
    {
     "data": {
      "text/html": [
       "<style>#sk-container-id-4 {color: black;}#sk-container-id-4 pre{padding: 0;}#sk-container-id-4 div.sk-toggleable {background-color: white;}#sk-container-id-4 label.sk-toggleable__label {cursor: pointer;display: block;width: 100%;margin-bottom: 0;padding: 0.3em;box-sizing: border-box;text-align: center;}#sk-container-id-4 label.sk-toggleable__label-arrow:before {content: \"▸\";float: left;margin-right: 0.25em;color: #696969;}#sk-container-id-4 label.sk-toggleable__label-arrow:hover:before {color: black;}#sk-container-id-4 div.sk-estimator:hover label.sk-toggleable__label-arrow:before {color: black;}#sk-container-id-4 div.sk-toggleable__content {max-height: 0;max-width: 0;overflow: hidden;text-align: left;background-color: #f0f8ff;}#sk-container-id-4 div.sk-toggleable__content pre {margin: 0.2em;color: black;border-radius: 0.25em;background-color: #f0f8ff;}#sk-container-id-4 input.sk-toggleable__control:checked~div.sk-toggleable__content {max-height: 200px;max-width: 100%;overflow: auto;}#sk-container-id-4 input.sk-toggleable__control:checked~label.sk-toggleable__label-arrow:before {content: \"▾\";}#sk-container-id-4 div.sk-estimator input.sk-toggleable__control:checked~label.sk-toggleable__label {background-color: #d4ebff;}#sk-container-id-4 div.sk-label input.sk-toggleable__control:checked~label.sk-toggleable__label {background-color: #d4ebff;}#sk-container-id-4 input.sk-hidden--visually {border: 0;clip: rect(1px 1px 1px 1px);clip: rect(1px, 1px, 1px, 1px);height: 1px;margin: -1px;overflow: hidden;padding: 0;position: absolute;width: 1px;}#sk-container-id-4 div.sk-estimator {font-family: monospace;background-color: #f0f8ff;border: 1px dotted black;border-radius: 0.25em;box-sizing: border-box;margin-bottom: 0.5em;}#sk-container-id-4 div.sk-estimator:hover {background-color: #d4ebff;}#sk-container-id-4 div.sk-parallel-item::after {content: \"\";width: 100%;border-bottom: 1px solid gray;flex-grow: 1;}#sk-container-id-4 div.sk-label:hover label.sk-toggleable__label {background-color: #d4ebff;}#sk-container-id-4 div.sk-serial::before {content: \"\";position: absolute;border-left: 1px solid gray;box-sizing: border-box;top: 0;bottom: 0;left: 50%;z-index: 0;}#sk-container-id-4 div.sk-serial {display: flex;flex-direction: column;align-items: center;background-color: white;padding-right: 0.2em;padding-left: 0.2em;position: relative;}#sk-container-id-4 div.sk-item {position: relative;z-index: 1;}#sk-container-id-4 div.sk-parallel {display: flex;align-items: stretch;justify-content: center;background-color: white;position: relative;}#sk-container-id-4 div.sk-item::before, #sk-container-id-4 div.sk-parallel-item::before {content: \"\";position: absolute;border-left: 1px solid gray;box-sizing: border-box;top: 0;bottom: 0;left: 50%;z-index: -1;}#sk-container-id-4 div.sk-parallel-item {display: flex;flex-direction: column;z-index: 1;position: relative;background-color: white;}#sk-container-id-4 div.sk-parallel-item:first-child::after {align-self: flex-end;width: 50%;}#sk-container-id-4 div.sk-parallel-item:last-child::after {align-self: flex-start;width: 50%;}#sk-container-id-4 div.sk-parallel-item:only-child::after {width: 0;}#sk-container-id-4 div.sk-dashed-wrapped {border: 1px dashed gray;margin: 0 0.4em 0.5em 0.4em;box-sizing: border-box;padding-bottom: 0.4em;background-color: white;}#sk-container-id-4 div.sk-label label {font-family: monospace;font-weight: bold;display: inline-block;line-height: 1.2em;}#sk-container-id-4 div.sk-label-container {text-align: center;}#sk-container-id-4 div.sk-container {/* jupyter's `normalize.less` sets `[hidden] { display: none; }` but bootstrap.min.css set `[hidden] { display: none !important; }` so we also need the `!important` here to be able to override the default hidden behavior on the sphinx rendered scikit-learn.org. See: https://github.com/scikit-learn/scikit-learn/issues/21755 */display: inline-block !important;position: relative;}#sk-container-id-4 div.sk-text-repr-fallback {display: none;}</style><div id=\"sk-container-id-4\" class=\"sk-top-container\"><div class=\"sk-text-repr-fallback\"><pre>LinearRegression()</pre><b>In a Jupyter environment, please rerun this cell to show the HTML representation or trust the notebook. <br />On GitHub, the HTML representation is unable to render, please try loading this page with nbviewer.org.</b></div><div class=\"sk-container\" hidden><div class=\"sk-item\"><div class=\"sk-estimator sk-toggleable\"><input class=\"sk-toggleable__control sk-hidden--visually\" id=\"sk-estimator-id-4\" type=\"checkbox\" checked><label for=\"sk-estimator-id-4\" class=\"sk-toggleable__label sk-toggleable__label-arrow\">LinearRegression</label><div class=\"sk-toggleable__content\"><pre>LinearRegression()</pre></div></div></div></div></div>"
      ],
      "text/plain": [
       "LinearRegression()"
      ]
     },
     "execution_count": 72,
     "metadata": {},
     "output_type": "execute_result"
    }
   ],
   "source": [
    "model1.fit(X_train,Y_train)"
   ]
  },
  {
   "cell_type": "code",
   "execution_count": 73,
   "id": "a3329b0f",
   "metadata": {},
   "outputs": [
    {
     "data": {
      "text/plain": [
       "array([ 8.14345101e-01,  1.22852851e-01,  1.21939747e-01,  1.09570758e+00,\n",
       "       -6.03726342e-02,  1.18785760e+00,  8.08714954e-01,  1.01554394e+00,\n",
       "        1.16865008e+00,  8.50790723e-01, -4.93722251e-03,  9.36414490e-01,\n",
       "        1.88391599e-01,  1.15432828e+00,  1.20810982e+00,  1.25074909e+00,\n",
       "        7.47435522e-03, -6.07013199e-02,  1.01128622e+00,  1.83831986e-01,\n",
       "        1.04416111e+00,  6.27094908e-02,  1.15479542e+00,  1.45093203e-01,\n",
       "       -1.34795072e-01,  8.13111337e-01, -9.17379954e-02,  5.95345516e-01,\n",
       "        9.79294846e-02,  7.63111135e-01,  1.07202603e+00,  1.23026796e+00,\n",
       "        9.41859318e-01,  8.13379712e-01,  2.05244239e-01,  1.02543024e+00,\n",
       "        2.90474170e-01,  3.54024801e-01,  5.47235552e-02,  3.90513355e-01,\n",
       "        7.01769140e-01, -1.23915776e-01,  1.05389850e+00,  2.01405241e-01,\n",
       "        1.06110175e-01,  6.52847869e-01,  1.19239157e+00,  3.04723883e-01,\n",
       "        2.24795127e-01,  1.56463241e-01,  1.02310221e+00,  3.14056543e-01,\n",
       "        7.69986493e-01,  7.42576989e-01,  1.20288781e+00,  3.94274627e-01,\n",
       "        1.14994440e+00,  1.19141715e+00,  4.42324174e-01,  1.04870291e+00,\n",
       "        9.95094166e-01,  7.87558145e-01,  1.08598983e+00,  1.52996509e-01,\n",
       "       -2.06745858e-02,  1.08633183e+00, -8.87400066e-02,  2.97901899e-01,\n",
       "        1.23920405e-01,  1.22078310e+00, -9.77897954e-02,  4.66029870e-01,\n",
       "        8.14650177e-02,  5.89215367e-01,  1.51623117e-01,  9.53526946e-01,\n",
       "        9.59071660e-01,  3.34236787e-02, -1.13091081e-01,  2.86652901e-01,\n",
       "        3.07627234e-01,  6.37692554e-01,  1.36967345e-01,  8.15979572e-01,\n",
       "       -8.62891928e-02, -1.05190001e-01,  6.91006835e-01,  3.78101605e-01,\n",
       "       -3.34851446e-02,  7.92790309e-01,  2.89943348e-02,  1.20298094e+00,\n",
       "        2.02161150e-02,  4.06472690e-02,  4.17431368e-01,  4.96091356e-01,\n",
       "        1.08023638e-01,  4.75916795e-01,  1.49713413e-01,  1.13714036e+00,\n",
       "        9.07707669e-01,  2.63102504e-01, -1.00156574e-01,  8.99194671e-01,\n",
       "        9.39797370e-01,  2.82476624e-01,  3.57927342e-01, -4.45956211e-02,\n",
       "        7.19994569e-03,  2.33145165e-01,  5.51083101e-02,  1.68682158e-02,\n",
       "        1.11799081e+00,  6.94055664e-01,  9.68298681e-01,  1.38649271e-01,\n",
       "        8.12489558e-01,  1.09407116e+00,  6.17604114e-01,  1.43904408e-02,\n",
       "        4.63239171e-01,  9.21352083e-01,  3.94284809e-01, -5.09719046e-02,\n",
       "        1.15664741e+00,  1.47084535e-01, -1.23685079e-02,  1.21065434e+00,\n",
       "        7.97983053e-01,  5.87097685e-02,  7.20743859e-01, -1.62764255e-01,\n",
       "        1.27705719e-01,  2.25430373e-01, -3.12840308e-02,  1.25167801e-01,\n",
       "       -1.51801402e-01,  1.09124239e+00,  3.39848937e-01,  2.88888652e-03,\n",
       "        8.15893860e-01,  6.13113791e-01,  9.69755149e-01,  2.02533180e-02,\n",
       "        1.39579454e-01,  8.25948945e-01,  1.16919382e-01,  1.85821294e-01,\n",
       "       -8.43204102e-04,  3.36833630e-01,  1.24326840e+00,  9.86033997e-01,\n",
       "        9.10365697e-01,  2.24457829e-01,  8.29224908e-01,  7.91747023e-01,\n",
       "       -2.92381406e-02,  4.04535413e-01,  1.09510678e+00,  4.33586778e-02,\n",
       "        1.12637702e+00,  1.71273846e-02,  8.39877577e-01,  8.37825835e-01,\n",
       "        2.27065206e-01,  3.39062818e-01,  1.23584942e-01,  1.47880038e-01,\n",
       "        3.13839208e-01,  4.00863841e-02,  6.36076540e-01,  5.62273616e-01,\n",
       "        7.27083624e-01,  9.21800092e-01,  7.48215881e-01,  1.08386040e-02,\n",
       "        4.69320736e-01,  3.61094853e-02,  6.02025655e-02,  2.96492393e-01,\n",
       "        1.27179784e+00, -7.43539323e-02,  1.20618443e-02,  9.01982568e-01,\n",
       "        2.15629424e-01,  5.88427371e-01,  7.63469420e-01,  3.20919898e-01,\n",
       "        1.86403800e-01,  9.15817675e-01, -1.41965428e-01,  3.89136859e-01,\n",
       "        3.26526830e-01,  1.67505758e-01,  7.86559522e-02,  6.04688423e-02,\n",
       "        4.57565682e-01,  9.27569678e-01,  6.05930434e-01,  2.62724168e-02,\n",
       "        1.04032043e+00,  1.90560828e-01,  1.82991742e-01,  4.17810185e-02,\n",
       "        6.21362339e-01,  1.94611879e-01,  8.34287927e-03, -2.42554195e-02,\n",
       "        1.14511714e+00,  1.08783104e+00,  2.81690113e-01,  9.40940514e-01,\n",
       "        3.90011603e-01,  3.19615444e-01,  2.27327030e-01,  9.91158360e-01,\n",
       "        7.94821676e-01,  1.00957058e-01,  2.90908464e-02,  1.00811134e+00,\n",
       "        1.37436001e-02,  3.63950178e-01,  1.05112164e+00, -1.13284083e-01,\n",
       "        1.21568267e-02,  1.65923538e-01,  8.63848475e-01,  3.12860439e-01,\n",
       "        7.87539158e-02,  8.37621879e-01,  2.10167621e-01,  8.71426638e-02,\n",
       "        4.20908493e-01,  3.65462119e-01, -1.09307408e-01,  3.16633163e-01,\n",
       "        1.18511694e+00,  1.67715569e-01,  8.62723322e-01, -1.18936787e-01,\n",
       "        1.68713732e-01,  5.72898510e-01,  1.14769378e+00,  1.81799432e-01,\n",
       "        6.91045583e-01,  1.12948467e+00,  8.50712574e-03,  2.83764076e-01,\n",
       "        2.49096338e-01,  1.09943274e+00,  1.09664914e+00,  1.01728905e+00,\n",
       "        9.46971829e-01,  1.12083195e+00,  1.18289757e+00,  8.52743327e-01,\n",
       "       -9.00982446e-02,  1.17281954e+00,  2.24470166e-01,  1.04049312e-01,\n",
       "        6.50692179e-01,  6.66518646e-01,  1.06680393e+00,  9.64525831e-01,\n",
       "        1.15623562e+00,  2.26096394e-01,  8.56805963e-01,  9.51936979e-01,\n",
       "        1.53529842e-02,  2.97815231e-01,  2.58658604e-01,  2.88297425e-01,\n",
       "        6.67282491e-02,  7.98647577e-01,  2.96280705e-03,  1.02422332e+00,\n",
       "        1.88686235e-01,  9.47934855e-02, -1.81935014e-02,  6.13069125e-01,\n",
       "        1.05996882e+00,  3.38626284e-02,  6.01423953e-02,  9.65376321e-02,\n",
       "        5.73828438e-01,  1.12049909e+00,  1.19450666e-01,  7.60127855e-01,\n",
       "        7.84263106e-01,  1.14650672e+00,  2.99616591e-01,  6.48420343e-02,\n",
       "        1.05303312e+00, -5.03961715e-02,  3.66176334e-01,  5.76242217e-01,\n",
       "        9.31040647e-01, -8.75980440e-02,  5.85775393e-01,  7.13291698e-02,\n",
       "        4.04291253e-01,  1.44384644e-01,  6.13442770e-01,  2.42999002e-01,\n",
       "        1.18301528e+00,  5.45749661e-01,  8.37266736e-01, -9.88573113e-02,\n",
       "        8.05934341e-01,  9.96286331e-01,  7.68996214e-01,  7.33024517e-01,\n",
       "        7.17361741e-01,  7.10593499e-02,  8.33192311e-01,  3.88074894e-01,\n",
       "        9.76977648e-01,  7.94682172e-01,  1.13144171e-02, -1.10338763e-01,\n",
       "        2.12760813e-01, -4.99624218e-02,  3.15471759e-01,  2.93887303e-01,\n",
       "        5.70087330e-01,  1.01652692e+00,  9.12715834e-02,  9.60408184e-01,\n",
       "        7.67874184e-01,  4.49486942e-01,  3.06527060e-01,  1.16041540e+00,\n",
       "        8.15923173e-01,  8.48546950e-01,  8.33289980e-02,  1.20278284e+00,\n",
       "        1.37345534e-01,  1.16224322e+00,  8.63838441e-01,  8.59099858e-01,\n",
       "        1.62517953e-01,  7.10545824e-01,  7.35604485e-01,  7.95148820e-02,\n",
       "        4.69068042e-01,  5.00844352e-01,  8.01268272e-02,  2.45832327e-01,\n",
       "        6.11291649e-01, -4.85375181e-02,  2.90814051e-02,  8.48439572e-01,\n",
       "        9.79472199e-01,  9.88002363e-01,  8.09200499e-01,  8.86925220e-01,\n",
       "        4.83688152e-01,  1.14750324e-01,  6.91232567e-01,  5.28988539e-01,\n",
       "        1.68756453e-02,  1.05641547e+00,  1.08724713e+00,  4.98531348e-01,\n",
       "        5.85804970e-01,  7.23874372e-01,  1.36794238e-01,  5.18731178e-01,\n",
       "        8.28839743e-01,  2.40258284e-01,  8.03958928e-02,  7.62555977e-01,\n",
       "        2.07392433e-01,  4.88702571e-01,  2.53623116e-01, -4.56419978e-02,\n",
       "        1.18496895e+00,  6.53824167e-01,  6.11483333e-01, -2.37396882e-02,\n",
       "        2.18476631e-01,  2.02264494e-01,  7.99054422e-01,  1.12617753e+00,\n",
       "        6.19215624e-01,  2.95515168e-02,  1.33199308e-01,  3.92346897e-01,\n",
       "        1.13347350e+00,  1.02491378e+00,  2.91646430e-01,  4.49506334e-01,\n",
       "        4.94799815e-01,  3.10513113e-01,  1.78711489e-01,  3.70346925e-01,\n",
       "        9.48804375e-01,  3.15459931e-02,  9.40391633e-01,  8.13555924e-01])"
      ]
     },
     "execution_count": 73,
     "metadata": {},
     "output_type": "execute_result"
    }
   ],
   "source": [
    "model1.fit(X_train,Y_train)\n",
    "prediction1=model1.predict(X_test)\n",
    "prediction1"
   ]
  },
  {
   "cell_type": "code",
   "execution_count": 74,
   "id": "51f7742b",
   "metadata": {},
   "outputs": [],
   "source": [
    "from sklearn.tree import DecisionTreeClassifier"
   ]
  },
  {
   "cell_type": "code",
   "execution_count": 75,
   "id": "2abeff3c",
   "metadata": {},
   "outputs": [],
   "source": [
    "from sklearn.ensemble import RandomForestClassifier"
   ]
  },
  {
   "cell_type": "code",
   "execution_count": 76,
   "id": "a86e6eb1",
   "metadata": {},
   "outputs": [],
   "source": [
    "import seaborn as sns"
   ]
  },
  {
   "cell_type": "code",
   "execution_count": 77,
   "id": "6843e815",
   "metadata": {},
   "outputs": [
    {
     "data": {
      "text/html": [
       "<div>\n",
       "<style scoped>\n",
       "    .dataframe tbody tr th:only-of-type {\n",
       "        vertical-align: middle;\n",
       "    }\n",
       "\n",
       "    .dataframe tbody tr th {\n",
       "        vertical-align: top;\n",
       "    }\n",
       "\n",
       "    .dataframe thead th {\n",
       "        text-align: right;\n",
       "    }\n",
       "</style>\n",
       "<table border=\"1\" class=\"dataframe\">\n",
       "  <thead>\n",
       "    <tr style=\"text-align: right;\">\n",
       "      <th></th>\n",
       "      <th>sepal_length</th>\n",
       "      <th>sepal_width</th>\n",
       "      <th>petal_length</th>\n",
       "      <th>petal_width</th>\n",
       "      <th>species</th>\n",
       "    </tr>\n",
       "  </thead>\n",
       "  <tbody>\n",
       "    <tr>\n",
       "      <th>0</th>\n",
       "      <td>5.1</td>\n",
       "      <td>3.5</td>\n",
       "      <td>1.4</td>\n",
       "      <td>0.2</td>\n",
       "      <td>setosa</td>\n",
       "    </tr>\n",
       "    <tr>\n",
       "      <th>1</th>\n",
       "      <td>4.9</td>\n",
       "      <td>3.0</td>\n",
       "      <td>1.4</td>\n",
       "      <td>0.2</td>\n",
       "      <td>setosa</td>\n",
       "    </tr>\n",
       "    <tr>\n",
       "      <th>2</th>\n",
       "      <td>4.7</td>\n",
       "      <td>3.2</td>\n",
       "      <td>1.3</td>\n",
       "      <td>0.2</td>\n",
       "      <td>setosa</td>\n",
       "    </tr>\n",
       "    <tr>\n",
       "      <th>3</th>\n",
       "      <td>4.6</td>\n",
       "      <td>3.1</td>\n",
       "      <td>1.5</td>\n",
       "      <td>0.2</td>\n",
       "      <td>setosa</td>\n",
       "    </tr>\n",
       "    <tr>\n",
       "      <th>4</th>\n",
       "      <td>5.0</td>\n",
       "      <td>3.6</td>\n",
       "      <td>1.4</td>\n",
       "      <td>0.2</td>\n",
       "      <td>setosa</td>\n",
       "    </tr>\n",
       "  </tbody>\n",
       "</table>\n",
       "</div>"
      ],
      "text/plain": [
       "   sepal_length  sepal_width  petal_length  petal_width species\n",
       "0           5.1          3.5           1.4          0.2  setosa\n",
       "1           4.9          3.0           1.4          0.2  setosa\n",
       "2           4.7          3.2           1.3          0.2  setosa\n",
       "3           4.6          3.1           1.5          0.2  setosa\n",
       "4           5.0          3.6           1.4          0.2  setosa"
      ]
     },
     "execution_count": 77,
     "metadata": {},
     "output_type": "execute_result"
    }
   ],
   "source": [
    "t=sns.load_dataset('iris')\n",
    "t.head()"
   ]
  },
  {
   "cell_type": "code",
   "execution_count": 78,
   "id": "7cdf326e",
   "metadata": {},
   "outputs": [
    {
     "name": "stdout",
     "output_type": "stream",
     "text": [
      "<class 'pandas.core.frame.DataFrame'>\n",
      "RangeIndex: 150 entries, 0 to 149\n",
      "Data columns (total 5 columns):\n",
      " #   Column        Non-Null Count  Dtype  \n",
      "---  ------        --------------  -----  \n",
      " 0   sepal_length  150 non-null    float64\n",
      " 1   sepal_width   150 non-null    float64\n",
      " 2   petal_length  150 non-null    float64\n",
      " 3   petal_width   150 non-null    float64\n",
      " 4   species       150 non-null    object \n",
      "dtypes: float64(4), object(1)\n",
      "memory usage: 6.0+ KB\n"
     ]
    }
   ],
   "source": [
    "t.info()"
   ]
  },
  {
   "cell_type": "code",
   "execution_count": 79,
   "id": "539beaf2",
   "metadata": {},
   "outputs": [],
   "source": [
    "X= t[['sepal_length','sepal_width','petal_length','petal_width']]\n",
    "Y= t['species']"
   ]
  },
  {
   "cell_type": "code",
   "execution_count": 80,
   "id": "a1e97cc4",
   "metadata": {},
   "outputs": [
    {
     "data": {
      "text/html": [
       "<div>\n",
       "<style scoped>\n",
       "    .dataframe tbody tr th:only-of-type {\n",
       "        vertical-align: middle;\n",
       "    }\n",
       "\n",
       "    .dataframe tbody tr th {\n",
       "        vertical-align: top;\n",
       "    }\n",
       "\n",
       "    .dataframe thead th {\n",
       "        text-align: right;\n",
       "    }\n",
       "</style>\n",
       "<table border=\"1\" class=\"dataframe\">\n",
       "  <thead>\n",
       "    <tr style=\"text-align: right;\">\n",
       "      <th></th>\n",
       "      <th>sepal_length</th>\n",
       "      <th>sepal_width</th>\n",
       "      <th>petal_length</th>\n",
       "      <th>petal_width</th>\n",
       "    </tr>\n",
       "  </thead>\n",
       "  <tbody>\n",
       "    <tr>\n",
       "      <th>0</th>\n",
       "      <td>5.1</td>\n",
       "      <td>3.5</td>\n",
       "      <td>1.4</td>\n",
       "      <td>0.2</td>\n",
       "    </tr>\n",
       "    <tr>\n",
       "      <th>1</th>\n",
       "      <td>4.9</td>\n",
       "      <td>3.0</td>\n",
       "      <td>1.4</td>\n",
       "      <td>0.2</td>\n",
       "    </tr>\n",
       "    <tr>\n",
       "      <th>2</th>\n",
       "      <td>4.7</td>\n",
       "      <td>3.2</td>\n",
       "      <td>1.3</td>\n",
       "      <td>0.2</td>\n",
       "    </tr>\n",
       "    <tr>\n",
       "      <th>3</th>\n",
       "      <td>4.6</td>\n",
       "      <td>3.1</td>\n",
       "      <td>1.5</td>\n",
       "      <td>0.2</td>\n",
       "    </tr>\n",
       "    <tr>\n",
       "      <th>4</th>\n",
       "      <td>5.0</td>\n",
       "      <td>3.6</td>\n",
       "      <td>1.4</td>\n",
       "      <td>0.2</td>\n",
       "    </tr>\n",
       "    <tr>\n",
       "      <th>...</th>\n",
       "      <td>...</td>\n",
       "      <td>...</td>\n",
       "      <td>...</td>\n",
       "      <td>...</td>\n",
       "    </tr>\n",
       "    <tr>\n",
       "      <th>145</th>\n",
       "      <td>6.7</td>\n",
       "      <td>3.0</td>\n",
       "      <td>5.2</td>\n",
       "      <td>2.3</td>\n",
       "    </tr>\n",
       "    <tr>\n",
       "      <th>146</th>\n",
       "      <td>6.3</td>\n",
       "      <td>2.5</td>\n",
       "      <td>5.0</td>\n",
       "      <td>1.9</td>\n",
       "    </tr>\n",
       "    <tr>\n",
       "      <th>147</th>\n",
       "      <td>6.5</td>\n",
       "      <td>3.0</td>\n",
       "      <td>5.2</td>\n",
       "      <td>2.0</td>\n",
       "    </tr>\n",
       "    <tr>\n",
       "      <th>148</th>\n",
       "      <td>6.2</td>\n",
       "      <td>3.4</td>\n",
       "      <td>5.4</td>\n",
       "      <td>2.3</td>\n",
       "    </tr>\n",
       "    <tr>\n",
       "      <th>149</th>\n",
       "      <td>5.9</td>\n",
       "      <td>3.0</td>\n",
       "      <td>5.1</td>\n",
       "      <td>1.8</td>\n",
       "    </tr>\n",
       "  </tbody>\n",
       "</table>\n",
       "<p>150 rows × 4 columns</p>\n",
       "</div>"
      ],
      "text/plain": [
       "     sepal_length  sepal_width  petal_length  petal_width\n",
       "0             5.1          3.5           1.4          0.2\n",
       "1             4.9          3.0           1.4          0.2\n",
       "2             4.7          3.2           1.3          0.2\n",
       "3             4.6          3.1           1.5          0.2\n",
       "4             5.0          3.6           1.4          0.2\n",
       "..            ...          ...           ...          ...\n",
       "145           6.7          3.0           5.2          2.3\n",
       "146           6.3          2.5           5.0          1.9\n",
       "147           6.5          3.0           5.2          2.0\n",
       "148           6.2          3.4           5.4          2.3\n",
       "149           5.9          3.0           5.1          1.8\n",
       "\n",
       "[150 rows x 4 columns]"
      ]
     },
     "execution_count": 80,
     "metadata": {},
     "output_type": "execute_result"
    }
   ],
   "source": [
    "X"
   ]
  },
  {
   "cell_type": "code",
   "execution_count": 81,
   "id": "6cf5c666",
   "metadata": {},
   "outputs": [
    {
     "data": {
      "text/plain": [
       "0         setosa\n",
       "1         setosa\n",
       "2         setosa\n",
       "3         setosa\n",
       "4         setosa\n",
       "         ...    \n",
       "145    virginica\n",
       "146    virginica\n",
       "147    virginica\n",
       "148    virginica\n",
       "149    virginica\n",
       "Name: species, Length: 150, dtype: object"
      ]
     },
     "execution_count": 81,
     "metadata": {},
     "output_type": "execute_result"
    }
   ],
   "source": [
    "Y"
   ]
  },
  {
   "cell_type": "code",
   "execution_count": 82,
   "id": "6e30b132",
   "metadata": {},
   "outputs": [],
   "source": [
    "from sklearn.linear_model import LinearRegression\n"
   ]
  },
  {
   "cell_type": "code",
   "execution_count": 83,
   "id": "a5f087be",
   "metadata": {},
   "outputs": [],
   "source": [
    "p=LinearRegression()"
   ]
  },
  {
   "cell_type": "code",
   "execution_count": 84,
   "id": "f19f1ff1",
   "metadata": {},
   "outputs": [
    {
     "data": {
      "text/html": [
       "<style>#sk-container-id-5 {color: black;}#sk-container-id-5 pre{padding: 0;}#sk-container-id-5 div.sk-toggleable {background-color: white;}#sk-container-id-5 label.sk-toggleable__label {cursor: pointer;display: block;width: 100%;margin-bottom: 0;padding: 0.3em;box-sizing: border-box;text-align: center;}#sk-container-id-5 label.sk-toggleable__label-arrow:before {content: \"▸\";float: left;margin-right: 0.25em;color: #696969;}#sk-container-id-5 label.sk-toggleable__label-arrow:hover:before {color: black;}#sk-container-id-5 div.sk-estimator:hover label.sk-toggleable__label-arrow:before {color: black;}#sk-container-id-5 div.sk-toggleable__content {max-height: 0;max-width: 0;overflow: hidden;text-align: left;background-color: #f0f8ff;}#sk-container-id-5 div.sk-toggleable__content pre {margin: 0.2em;color: black;border-radius: 0.25em;background-color: #f0f8ff;}#sk-container-id-5 input.sk-toggleable__control:checked~div.sk-toggleable__content {max-height: 200px;max-width: 100%;overflow: auto;}#sk-container-id-5 input.sk-toggleable__control:checked~label.sk-toggleable__label-arrow:before {content: \"▾\";}#sk-container-id-5 div.sk-estimator input.sk-toggleable__control:checked~label.sk-toggleable__label {background-color: #d4ebff;}#sk-container-id-5 div.sk-label input.sk-toggleable__control:checked~label.sk-toggleable__label {background-color: #d4ebff;}#sk-container-id-5 input.sk-hidden--visually {border: 0;clip: rect(1px 1px 1px 1px);clip: rect(1px, 1px, 1px, 1px);height: 1px;margin: -1px;overflow: hidden;padding: 0;position: absolute;width: 1px;}#sk-container-id-5 div.sk-estimator {font-family: monospace;background-color: #f0f8ff;border: 1px dotted black;border-radius: 0.25em;box-sizing: border-box;margin-bottom: 0.5em;}#sk-container-id-5 div.sk-estimator:hover {background-color: #d4ebff;}#sk-container-id-5 div.sk-parallel-item::after {content: \"\";width: 100%;border-bottom: 1px solid gray;flex-grow: 1;}#sk-container-id-5 div.sk-label:hover label.sk-toggleable__label {background-color: #d4ebff;}#sk-container-id-5 div.sk-serial::before {content: \"\";position: absolute;border-left: 1px solid gray;box-sizing: border-box;top: 0;bottom: 0;left: 50%;z-index: 0;}#sk-container-id-5 div.sk-serial {display: flex;flex-direction: column;align-items: center;background-color: white;padding-right: 0.2em;padding-left: 0.2em;position: relative;}#sk-container-id-5 div.sk-item {position: relative;z-index: 1;}#sk-container-id-5 div.sk-parallel {display: flex;align-items: stretch;justify-content: center;background-color: white;position: relative;}#sk-container-id-5 div.sk-item::before, #sk-container-id-5 div.sk-parallel-item::before {content: \"\";position: absolute;border-left: 1px solid gray;box-sizing: border-box;top: 0;bottom: 0;left: 50%;z-index: -1;}#sk-container-id-5 div.sk-parallel-item {display: flex;flex-direction: column;z-index: 1;position: relative;background-color: white;}#sk-container-id-5 div.sk-parallel-item:first-child::after {align-self: flex-end;width: 50%;}#sk-container-id-5 div.sk-parallel-item:last-child::after {align-self: flex-start;width: 50%;}#sk-container-id-5 div.sk-parallel-item:only-child::after {width: 0;}#sk-container-id-5 div.sk-dashed-wrapped {border: 1px dashed gray;margin: 0 0.4em 0.5em 0.4em;box-sizing: border-box;padding-bottom: 0.4em;background-color: white;}#sk-container-id-5 div.sk-label label {font-family: monospace;font-weight: bold;display: inline-block;line-height: 1.2em;}#sk-container-id-5 div.sk-label-container {text-align: center;}#sk-container-id-5 div.sk-container {/* jupyter's `normalize.less` sets `[hidden] { display: none; }` but bootstrap.min.css set `[hidden] { display: none !important; }` so we also need the `!important` here to be able to override the default hidden behavior on the sphinx rendered scikit-learn.org. See: https://github.com/scikit-learn/scikit-learn/issues/21755 */display: inline-block !important;position: relative;}#sk-container-id-5 div.sk-text-repr-fallback {display: none;}</style><div id=\"sk-container-id-5\" class=\"sk-top-container\"><div class=\"sk-text-repr-fallback\"><pre>LinearRegression()</pre><b>In a Jupyter environment, please rerun this cell to show the HTML representation or trust the notebook. <br />On GitHub, the HTML representation is unable to render, please try loading this page with nbviewer.org.</b></div><div class=\"sk-container\" hidden><div class=\"sk-item\"><div class=\"sk-estimator sk-toggleable\"><input class=\"sk-toggleable__control sk-hidden--visually\" id=\"sk-estimator-id-5\" type=\"checkbox\" checked><label for=\"sk-estimator-id-5\" class=\"sk-toggleable__label sk-toggleable__label-arrow\">LinearRegression</label><div class=\"sk-toggleable__content\"><pre>LinearRegression()</pre></div></div></div></div></div>"
      ],
      "text/plain": [
       "LinearRegression()"
      ]
     },
     "execution_count": 84,
     "metadata": {},
     "output_type": "execute_result"
    }
   ],
   "source": [
    "p"
   ]
  },
  {
   "cell_type": "code",
   "execution_count": 85,
   "id": "e8605fd9",
   "metadata": {},
   "outputs": [
    {
     "data": {
      "text/plain": [
       "array([ 8.14345101e-01,  1.22852851e-01,  1.21939747e-01,  1.09570758e+00,\n",
       "       -6.03726342e-02,  1.18785760e+00,  8.08714954e-01,  1.01554394e+00,\n",
       "        1.16865008e+00,  8.50790723e-01, -4.93722251e-03,  9.36414490e-01,\n",
       "        1.88391599e-01,  1.15432828e+00,  1.20810982e+00,  1.25074909e+00,\n",
       "        7.47435522e-03, -6.07013199e-02,  1.01128622e+00,  1.83831986e-01,\n",
       "        1.04416111e+00,  6.27094908e-02,  1.15479542e+00,  1.45093203e-01,\n",
       "       -1.34795072e-01,  8.13111337e-01, -9.17379954e-02,  5.95345516e-01,\n",
       "        9.79294846e-02,  7.63111135e-01,  1.07202603e+00,  1.23026796e+00,\n",
       "        9.41859318e-01,  8.13379712e-01,  2.05244239e-01,  1.02543024e+00,\n",
       "        2.90474170e-01,  3.54024801e-01,  5.47235552e-02,  3.90513355e-01,\n",
       "        7.01769140e-01, -1.23915776e-01,  1.05389850e+00,  2.01405241e-01,\n",
       "        1.06110175e-01,  6.52847869e-01,  1.19239157e+00,  3.04723883e-01,\n",
       "        2.24795127e-01,  1.56463241e-01,  1.02310221e+00,  3.14056543e-01,\n",
       "        7.69986493e-01,  7.42576989e-01,  1.20288781e+00,  3.94274627e-01,\n",
       "        1.14994440e+00,  1.19141715e+00,  4.42324174e-01,  1.04870291e+00,\n",
       "        9.95094166e-01,  7.87558145e-01,  1.08598983e+00,  1.52996509e-01,\n",
       "       -2.06745858e-02,  1.08633183e+00, -8.87400066e-02,  2.97901899e-01,\n",
       "        1.23920405e-01,  1.22078310e+00, -9.77897954e-02,  4.66029870e-01,\n",
       "        8.14650177e-02,  5.89215367e-01,  1.51623117e-01,  9.53526946e-01,\n",
       "        9.59071660e-01,  3.34236787e-02, -1.13091081e-01,  2.86652901e-01,\n",
       "        3.07627234e-01,  6.37692554e-01,  1.36967345e-01,  8.15979572e-01,\n",
       "       -8.62891928e-02, -1.05190001e-01,  6.91006835e-01,  3.78101605e-01,\n",
       "       -3.34851446e-02,  7.92790309e-01,  2.89943348e-02,  1.20298094e+00,\n",
       "        2.02161150e-02,  4.06472690e-02,  4.17431368e-01,  4.96091356e-01,\n",
       "        1.08023638e-01,  4.75916795e-01,  1.49713413e-01,  1.13714036e+00,\n",
       "        9.07707669e-01,  2.63102504e-01, -1.00156574e-01,  8.99194671e-01,\n",
       "        9.39797370e-01,  2.82476624e-01,  3.57927342e-01, -4.45956211e-02,\n",
       "        7.19994569e-03,  2.33145165e-01,  5.51083101e-02,  1.68682158e-02,\n",
       "        1.11799081e+00,  6.94055664e-01,  9.68298681e-01,  1.38649271e-01,\n",
       "        8.12489558e-01,  1.09407116e+00,  6.17604114e-01,  1.43904408e-02,\n",
       "        4.63239171e-01,  9.21352083e-01,  3.94284809e-01, -5.09719046e-02,\n",
       "        1.15664741e+00,  1.47084535e-01, -1.23685079e-02,  1.21065434e+00,\n",
       "        7.97983053e-01,  5.87097685e-02,  7.20743859e-01, -1.62764255e-01,\n",
       "        1.27705719e-01,  2.25430373e-01, -3.12840308e-02,  1.25167801e-01,\n",
       "       -1.51801402e-01,  1.09124239e+00,  3.39848937e-01,  2.88888652e-03,\n",
       "        8.15893860e-01,  6.13113791e-01,  9.69755149e-01,  2.02533180e-02,\n",
       "        1.39579454e-01,  8.25948945e-01,  1.16919382e-01,  1.85821294e-01,\n",
       "       -8.43204102e-04,  3.36833630e-01,  1.24326840e+00,  9.86033997e-01,\n",
       "        9.10365697e-01,  2.24457829e-01,  8.29224908e-01,  7.91747023e-01,\n",
       "       -2.92381406e-02,  4.04535413e-01,  1.09510678e+00,  4.33586778e-02,\n",
       "        1.12637702e+00,  1.71273846e-02,  8.39877577e-01,  8.37825835e-01,\n",
       "        2.27065206e-01,  3.39062818e-01,  1.23584942e-01,  1.47880038e-01,\n",
       "        3.13839208e-01,  4.00863841e-02,  6.36076540e-01,  5.62273616e-01,\n",
       "        7.27083624e-01,  9.21800092e-01,  7.48215881e-01,  1.08386040e-02,\n",
       "        4.69320736e-01,  3.61094853e-02,  6.02025655e-02,  2.96492393e-01,\n",
       "        1.27179784e+00, -7.43539323e-02,  1.20618443e-02,  9.01982568e-01,\n",
       "        2.15629424e-01,  5.88427371e-01,  7.63469420e-01,  3.20919898e-01,\n",
       "        1.86403800e-01,  9.15817675e-01, -1.41965428e-01,  3.89136859e-01,\n",
       "        3.26526830e-01,  1.67505758e-01,  7.86559522e-02,  6.04688423e-02,\n",
       "        4.57565682e-01,  9.27569678e-01,  6.05930434e-01,  2.62724168e-02,\n",
       "        1.04032043e+00,  1.90560828e-01,  1.82991742e-01,  4.17810185e-02,\n",
       "        6.21362339e-01,  1.94611879e-01,  8.34287927e-03, -2.42554195e-02,\n",
       "        1.14511714e+00,  1.08783104e+00,  2.81690113e-01,  9.40940514e-01,\n",
       "        3.90011603e-01,  3.19615444e-01,  2.27327030e-01,  9.91158360e-01,\n",
       "        7.94821676e-01,  1.00957058e-01,  2.90908464e-02,  1.00811134e+00,\n",
       "        1.37436001e-02,  3.63950178e-01,  1.05112164e+00, -1.13284083e-01,\n",
       "        1.21568267e-02,  1.65923538e-01,  8.63848475e-01,  3.12860439e-01,\n",
       "        7.87539158e-02,  8.37621879e-01,  2.10167621e-01,  8.71426638e-02,\n",
       "        4.20908493e-01,  3.65462119e-01, -1.09307408e-01,  3.16633163e-01,\n",
       "        1.18511694e+00,  1.67715569e-01,  8.62723322e-01, -1.18936787e-01,\n",
       "        1.68713732e-01,  5.72898510e-01,  1.14769378e+00,  1.81799432e-01,\n",
       "        6.91045583e-01,  1.12948467e+00,  8.50712574e-03,  2.83764076e-01,\n",
       "        2.49096338e-01,  1.09943274e+00,  1.09664914e+00,  1.01728905e+00,\n",
       "        9.46971829e-01,  1.12083195e+00,  1.18289757e+00,  8.52743327e-01,\n",
       "       -9.00982446e-02,  1.17281954e+00,  2.24470166e-01,  1.04049312e-01,\n",
       "        6.50692179e-01,  6.66518646e-01,  1.06680393e+00,  9.64525831e-01,\n",
       "        1.15623562e+00,  2.26096394e-01,  8.56805963e-01,  9.51936979e-01,\n",
       "        1.53529842e-02,  2.97815231e-01,  2.58658604e-01,  2.88297425e-01,\n",
       "        6.67282491e-02,  7.98647577e-01,  2.96280705e-03,  1.02422332e+00,\n",
       "        1.88686235e-01,  9.47934855e-02, -1.81935014e-02,  6.13069125e-01,\n",
       "        1.05996882e+00,  3.38626284e-02,  6.01423953e-02,  9.65376321e-02,\n",
       "        5.73828438e-01,  1.12049909e+00,  1.19450666e-01,  7.60127855e-01,\n",
       "        7.84263106e-01,  1.14650672e+00,  2.99616591e-01,  6.48420343e-02,\n",
       "        1.05303312e+00, -5.03961715e-02,  3.66176334e-01,  5.76242217e-01,\n",
       "        9.31040647e-01, -8.75980440e-02,  5.85775393e-01,  7.13291698e-02,\n",
       "        4.04291253e-01,  1.44384644e-01,  6.13442770e-01,  2.42999002e-01,\n",
       "        1.18301528e+00,  5.45749661e-01,  8.37266736e-01, -9.88573113e-02,\n",
       "        8.05934341e-01,  9.96286331e-01,  7.68996214e-01,  7.33024517e-01,\n",
       "        7.17361741e-01,  7.10593499e-02,  8.33192311e-01,  3.88074894e-01,\n",
       "        9.76977648e-01,  7.94682172e-01,  1.13144171e-02, -1.10338763e-01,\n",
       "        2.12760813e-01, -4.99624218e-02,  3.15471759e-01,  2.93887303e-01,\n",
       "        5.70087330e-01,  1.01652692e+00,  9.12715834e-02,  9.60408184e-01,\n",
       "        7.67874184e-01,  4.49486942e-01,  3.06527060e-01,  1.16041540e+00,\n",
       "        8.15923173e-01,  8.48546950e-01,  8.33289980e-02,  1.20278284e+00,\n",
       "        1.37345534e-01,  1.16224322e+00,  8.63838441e-01,  8.59099858e-01,\n",
       "        1.62517953e-01,  7.10545824e-01,  7.35604485e-01,  7.95148820e-02,\n",
       "        4.69068042e-01,  5.00844352e-01,  8.01268272e-02,  2.45832327e-01,\n",
       "        6.11291649e-01, -4.85375181e-02,  2.90814051e-02,  8.48439572e-01,\n",
       "        9.79472199e-01,  9.88002363e-01,  8.09200499e-01,  8.86925220e-01,\n",
       "        4.83688152e-01,  1.14750324e-01,  6.91232567e-01,  5.28988539e-01,\n",
       "        1.68756453e-02,  1.05641547e+00,  1.08724713e+00,  4.98531348e-01,\n",
       "        5.85804970e-01,  7.23874372e-01,  1.36794238e-01,  5.18731178e-01,\n",
       "        8.28839743e-01,  2.40258284e-01,  8.03958928e-02,  7.62555977e-01,\n",
       "        2.07392433e-01,  4.88702571e-01,  2.53623116e-01, -4.56419978e-02,\n",
       "        1.18496895e+00,  6.53824167e-01,  6.11483333e-01, -2.37396882e-02,\n",
       "        2.18476631e-01,  2.02264494e-01,  7.99054422e-01,  1.12617753e+00,\n",
       "        6.19215624e-01,  2.95515168e-02,  1.33199308e-01,  3.92346897e-01,\n",
       "        1.13347350e+00,  1.02491378e+00,  2.91646430e-01,  4.49506334e-01,\n",
       "        4.94799815e-01,  3.10513113e-01,  1.78711489e-01,  3.70346925e-01,\n",
       "        9.48804375e-01,  3.15459931e-02,  9.40391633e-01,  8.13555924e-01])"
      ]
     },
     "execution_count": 85,
     "metadata": {},
     "output_type": "execute_result"
    }
   ],
   "source": [
    "p.fit(X_train,Y_train)\n",
    "prediction1=p.predict(X_test)\n",
    "prediction1"
   ]
  },
  {
   "cell_type": "code",
   "execution_count": null,
   "id": "5429c8dd",
   "metadata": {},
   "outputs": [],
   "source": []
  },
  {
   "cell_type": "code",
   "execution_count": null,
   "id": "86202184",
   "metadata": {},
   "outputs": [],
   "source": []
  },
  {
   "cell_type": "code",
   "execution_count": null,
   "id": "e6837ad0",
   "metadata": {},
   "outputs": [],
   "source": []
  }
 ],
 "metadata": {
  "kernelspec": {
   "display_name": "Python 3 (ipykernel)",
   "language": "python",
   "name": "python3"
  },
  "language_info": {
   "codemirror_mode": {
    "name": "ipython",
    "version": 3
   },
   "file_extension": ".py",
   "mimetype": "text/x-python",
   "name": "python",
   "nbconvert_exporter": "python",
   "pygments_lexer": "ipython3",
   "version": "3.11.5"
  }
 },
 "nbformat": 4,
 "nbformat_minor": 5
}
